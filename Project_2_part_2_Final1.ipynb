{
  "nbformat": 4,
  "nbformat_minor": 0,
  "metadata": {
    "colab": {
      "name": "Project-2 part-2_Final1.ipynb",
      "provenance": [],
      "collapsed_sections": []
    },
    "kernelspec": {
      "display_name": "Python 3",
      "language": "python",
      "name": "python3"
    },
    "language_info": {
      "codemirror_mode": {
        "name": "ipython",
        "version": 3
      },
      "file_extension": ".py",
      "mimetype": "text/x-python",
      "name": "python",
      "nbconvert_exporter": "python",
      "pygments_lexer": "ipython3",
      "version": "3.8.5"
    },
    "accelerator": "GPU"
  },
  "cells": [
    {
      "cell_type": "markdown",
      "metadata": {
        "id": "nHOXbeCH9ren"
      },
      "source": [
        "# PROJECT OBJECTIVE: \n",
        "\n",
        "Build a sequential NLP classifier which can use input text parametersto determine the customer sentiments.\n",
        "\n",
        "# DATA DESCRIPTION:\n",
        "The dataset is collected from two news websites, theonion.com and huffingtonpost.com.\n",
        "This new dataset has the following advantages over the existing Twitter datasets:\n",
        "Since news headlines are written by professionals in a formal manner, there are no spelling mistakes and\n",
        "informal usage. This reduces the sparsity and also increases the chance of finding pre-trained embeddings.\n",
        "Furthermore, since the sole purpose of TheOnion is to publish sarcastic news, we get high-quality labels with\n",
        "much less noise as compared to Twitter datasets.\n",
        "Unlike tweets that reply to other tweets, the news headlines obtained are self-contained. This would help us in\n",
        "teasing apart the real sarcastic elements\n",
        "Content: Each record consists of three attributes:\n",
        "is_sarcastic: 1 if the record is sarcastic otherwise 0\n",
        "headline: the headline of the news article\n",
        "\n",
        "\n"
      ]
    },
    {
      "cell_type": "markdown",
      "metadata": {
        "id": "9TCt0kC69x7Q"
      },
      "source": [
        "**Import Libraries**"
      ]
    },
    {
      "cell_type": "code",
      "metadata": {
        "id": "A2jbu_6v9moG"
      },
      "source": [
        "import pandas as pd\n",
        "import numpy as np\n",
        "import seaborn as sns\n",
        "from tensorflow.keras import backend\n",
        "from tensorflow.keras.preprocessing.text import Tokenizer\n",
        "from tensorflow.keras.preprocessing.sequence import pad_sequences\n",
        "from tensorflow.keras.layers import Dense, Input, LSTM, Embedding, Dropout, Activation, Flatten, Bidirectional, GlobalMaxPool1D\n",
        "from tensorflow.keras.models import Model, Sequential"
      ],
      "execution_count": 2,
      "outputs": []
    },
    {
      "cell_type": "code",
      "metadata": {
        "colab": {
          "base_uri": "https://localhost:8080/"
        },
        "id": "WJeTNirUoWjM",
        "outputId": "27abed10-fda7-4d8a-9883-5b78a2957a7a"
      },
      "source": [
        "from google.colab import drive\n",
        "drive.mount('/content/drive')"
      ],
      "execution_count": 3,
      "outputs": [
        {
          "output_type": "stream",
          "text": [
            "Drive already mounted at /content/drive; to attempt to forcibly remount, call drive.mount(\"/content/drive\", force_remount=True).\n"
          ],
          "name": "stdout"
        }
      ]
    },
    {
      "cell_type": "markdown",
      "metadata": {
        "id": "liwIBDh8-SvD"
      },
      "source": [
        "**Read Data**"
      ]
    },
    {
      "cell_type": "code",
      "metadata": {
        "colab": {
          "base_uri": "https://localhost:8080/",
          "height": 206
        },
        "id": "AEYLdckn-WX6",
        "outputId": "c299dba6-3450-4726-e14a-2fecbbcf62a8"
      },
      "source": [
        "dframe = pd.read_json('/content/drive/MyDrive/My Drive/AIML/NLP/NLP2/Sarcasm_Headlines_Dataset.json',lines = True)\n",
        "dframe.head()"
      ],
      "execution_count": 4,
      "outputs": [
        {
          "output_type": "execute_result",
          "data": {
            "text/html": [
              "<div>\n",
              "<style scoped>\n",
              "    .dataframe tbody tr th:only-of-type {\n",
              "        vertical-align: middle;\n",
              "    }\n",
              "\n",
              "    .dataframe tbody tr th {\n",
              "        vertical-align: top;\n",
              "    }\n",
              "\n",
              "    .dataframe thead th {\n",
              "        text-align: right;\n",
              "    }\n",
              "</style>\n",
              "<table border=\"1\" class=\"dataframe\">\n",
              "  <thead>\n",
              "    <tr style=\"text-align: right;\">\n",
              "      <th></th>\n",
              "      <th>article_link</th>\n",
              "      <th>headline</th>\n",
              "      <th>is_sarcastic</th>\n",
              "    </tr>\n",
              "  </thead>\n",
              "  <tbody>\n",
              "    <tr>\n",
              "      <th>0</th>\n",
              "      <td>https://www.huffingtonpost.com/entry/versace-b...</td>\n",
              "      <td>former versace store clerk sues over secret 'b...</td>\n",
              "      <td>0</td>\n",
              "    </tr>\n",
              "    <tr>\n",
              "      <th>1</th>\n",
              "      <td>https://www.huffingtonpost.com/entry/roseanne-...</td>\n",
              "      <td>the 'roseanne' revival catches up to our thorn...</td>\n",
              "      <td>0</td>\n",
              "    </tr>\n",
              "    <tr>\n",
              "      <th>2</th>\n",
              "      <td>https://local.theonion.com/mom-starting-to-fea...</td>\n",
              "      <td>mom starting to fear son's web series closest ...</td>\n",
              "      <td>1</td>\n",
              "    </tr>\n",
              "    <tr>\n",
              "      <th>3</th>\n",
              "      <td>https://politics.theonion.com/boehner-just-wan...</td>\n",
              "      <td>boehner just wants wife to listen, not come up...</td>\n",
              "      <td>1</td>\n",
              "    </tr>\n",
              "    <tr>\n",
              "      <th>4</th>\n",
              "      <td>https://www.huffingtonpost.com/entry/jk-rowlin...</td>\n",
              "      <td>j.k. rowling wishes snape happy birthday in th...</td>\n",
              "      <td>0</td>\n",
              "    </tr>\n",
              "  </tbody>\n",
              "</table>\n",
              "</div>"
            ],
            "text/plain": [
              "                                        article_link  ... is_sarcastic\n",
              "0  https://www.huffingtonpost.com/entry/versace-b...  ...            0\n",
              "1  https://www.huffingtonpost.com/entry/roseanne-...  ...            0\n",
              "2  https://local.theonion.com/mom-starting-to-fea...  ...            1\n",
              "3  https://politics.theonion.com/boehner-just-wan...  ...            1\n",
              "4  https://www.huffingtonpost.com/entry/jk-rowlin...  ...            0\n",
              "\n",
              "[5 rows x 3 columns]"
            ]
          },
          "metadata": {
            "tags": []
          },
          "execution_count": 4
        }
      ]
    },
    {
      "cell_type": "code",
      "metadata": {
        "colab": {
          "base_uri": "https://localhost:8080/"
        },
        "id": "YqfiPuXx-nqd",
        "outputId": "86caee88-1477-4927-ae55-c5c5ed58896a"
      },
      "source": [
        "dframe.shape"
      ],
      "execution_count": 5,
      "outputs": [
        {
          "output_type": "execute_result",
          "data": {
            "text/plain": [
              "(26709, 3)"
            ]
          },
          "metadata": {
            "tags": []
          },
          "execution_count": 5
        }
      ]
    },
    {
      "cell_type": "code",
      "metadata": {
        "colab": {
          "base_uri": "https://localhost:8080/"
        },
        "id": "hXAuFafy-u7c",
        "outputId": "b3b3a514-b73c-40a9-e071-7658d80b6a1e"
      },
      "source": [
        "dframe.info()"
      ],
      "execution_count": 6,
      "outputs": [
        {
          "output_type": "stream",
          "text": [
            "<class 'pandas.core.frame.DataFrame'>\n",
            "RangeIndex: 26709 entries, 0 to 26708\n",
            "Data columns (total 3 columns):\n",
            " #   Column        Non-Null Count  Dtype \n",
            "---  ------        --------------  ----- \n",
            " 0   article_link  26709 non-null  object\n",
            " 1   headline      26709 non-null  object\n",
            " 2   is_sarcastic  26709 non-null  int64 \n",
            "dtypes: int64(1), object(2)\n",
            "memory usage: 626.1+ KB\n"
          ],
          "name": "stdout"
        }
      ]
    },
    {
      "cell_type": "code",
      "metadata": {
        "colab": {
          "base_uri": "https://localhost:8080/"
        },
        "id": "A9JJt-VB-1nu",
        "outputId": "a2589d8e-c4f5-4ac6-c41a-68a5b538d0aa"
      },
      "source": [
        "dframe.isna().any()"
      ],
      "execution_count": 7,
      "outputs": [
        {
          "output_type": "execute_result",
          "data": {
            "text/plain": [
              "article_link    False\n",
              "headline        False\n",
              "is_sarcastic    False\n",
              "dtype: bool"
            ]
          },
          "metadata": {
            "tags": []
          },
          "execution_count": 7
        }
      ]
    },
    {
      "cell_type": "code",
      "metadata": {
        "colab": {
          "base_uri": "https://localhost:8080/"
        },
        "id": "PRRiENqY-69V",
        "outputId": "dd6346f4-e4e3-4a61-aef4-acfa5843dc23"
      },
      "source": [
        "print('Unique values in Label/Target(Dependent) Column:' , dframe['is_sarcastic'].unique())\n",
        "print('Unique values in Feature(Independent) Column:', dframe['headline'].nunique()) \n",
        "print('Unique values in Article Link (Required to Drop):', dframe['article_link'].nunique())"
      ],
      "execution_count": 8,
      "outputs": [
        {
          "output_type": "stream",
          "text": [
            "Unique values in Label/Target(Dependent) Column: [0 1]\n",
            "Unique values in Feature(Independent) Column: 26602\n",
            "Unique values in Article Link (Required to Drop): 26708\n"
          ],
          "name": "stdout"
        }
      ]
    },
    {
      "cell_type": "code",
      "metadata": {
        "colab": {
          "base_uri": "https://localhost:8080/"
        },
        "id": "3zvva0ft_sv7",
        "outputId": "3d6d8092-6c75-4b15-ec5e-5acd56d88d80"
      },
      "source": [
        "dframe['is_sarcastic'].value_counts()"
      ],
      "execution_count": 9,
      "outputs": [
        {
          "output_type": "execute_result",
          "data": {
            "text/plain": [
              "0    14985\n",
              "1    11724\n",
              "Name: is_sarcastic, dtype: int64"
            ]
          },
          "metadata": {
            "tags": []
          },
          "execution_count": 9
        }
      ]
    },
    {
      "cell_type": "code",
      "metadata": {
        "colab": {
          "base_uri": "https://localhost:8080/",
          "height": 360
        },
        "id": "T3bMeuIG_1Cp",
        "outputId": "ece8d395-621e-40da-aa46-f426d5167e2b"
      },
      "source": [
        "sns.set(style=\"darkgrid\")\n",
        "sns.countplot(dframe['is_sarcastic'])"
      ],
      "execution_count": 10,
      "outputs": [
        {
          "output_type": "stream",
          "text": [
            "/usr/local/lib/python3.7/dist-packages/seaborn/_decorators.py:43: FutureWarning: Pass the following variable as a keyword arg: x. From version 0.12, the only valid positional argument will be `data`, and passing other arguments without an explicit keyword will result in an error or misinterpretation.\n",
            "  FutureWarning\n"
          ],
          "name": "stderr"
        },
        {
          "output_type": "execute_result",
          "data": {
            "text/plain": [
              "<matplotlib.axes._subplots.AxesSubplot at 0x7f01cee2f410>"
            ]
          },
          "metadata": {
            "tags": []
          },
          "execution_count": 10
        },
        {
          "output_type": "display_data",
          "data": {
            "image/png": "[encoded data removed]",
            "text/plain": [
              "<Figure size 432x288 with 1 Axes>"
            ]
          },
          "metadata": {
            "tags": []
          }
        }
      ]
    },
    {
      "cell_type": "markdown",
      "metadata": {
        "id": "-jzYPAzhAAcH"
      },
      "source": [
        "**Drop Unwanted Features**"
      ]
    },
    {
      "cell_type": "code",
      "metadata": {
        "colab": {
          "base_uri": "https://localhost:8080/",
          "height": 206
        },
        "id": "4g714ifDAJwm",
        "outputId": "befa9425-61ef-4a50-f79f-4ae929ce2bcd"
      },
      "source": [
        "dframe.drop(['article_link'],axis = 1, inplace = True)\n",
        "dframe.head()"
      ],
      "execution_count": 11,
      "outputs": [
        {
          "output_type": "execute_result",
          "data": {
            "text/html": [
              "<div>\n",
              "<style scoped>\n",
              "    .dataframe tbody tr th:only-of-type {\n",
              "        vertical-align: middle;\n",
              "    }\n",
              "\n",
              "    .dataframe tbody tr th {\n",
              "        vertical-align: top;\n",
              "    }\n",
              "\n",
              "    .dataframe thead th {\n",
              "        text-align: right;\n",
              "    }\n",
              "</style>\n",
              "<table border=\"1\" class=\"dataframe\">\n",
              "  <thead>\n",
              "    <tr style=\"text-align: right;\">\n",
              "      <th></th>\n",
              "      <th>headline</th>\n",
              "      <th>is_sarcastic</th>\n",
              "    </tr>\n",
              "  </thead>\n",
              "  <tbody>\n",
              "    <tr>\n",
              "      <th>0</th>\n",
              "      <td>former versace store clerk sues over secret 'b...</td>\n",
              "      <td>0</td>\n",
              "    </tr>\n",
              "    <tr>\n",
              "      <th>1</th>\n",
              "      <td>the 'roseanne' revival catches up to our thorn...</td>\n",
              "      <td>0</td>\n",
              "    </tr>\n",
              "    <tr>\n",
              "      <th>2</th>\n",
              "      <td>mom starting to fear son's web series closest ...</td>\n",
              "      <td>1</td>\n",
              "    </tr>\n",
              "    <tr>\n",
              "      <th>3</th>\n",
              "      <td>boehner just wants wife to listen, not come up...</td>\n",
              "      <td>1</td>\n",
              "    </tr>\n",
              "    <tr>\n",
              "      <th>4</th>\n",
              "      <td>j.k. rowling wishes snape happy birthday in th...</td>\n",
              "      <td>0</td>\n",
              "    </tr>\n",
              "  </tbody>\n",
              "</table>\n",
              "</div>"
            ],
            "text/plain": [
              "                                            headline  is_sarcastic\n",
              "0  former versace store clerk sues over secret 'b...             0\n",
              "1  the 'roseanne' revival catches up to our thorn...             0\n",
              "2  mom starting to fear son's web series closest ...             1\n",
              "3  boehner just wants wife to listen, not come up...             1\n",
              "4  j.k. rowling wishes snape happy birthday in th...             0"
            ]
          },
          "metadata": {
            "tags": []
          },
          "execution_count": 11
        }
      ]
    },
    {
      "cell_type": "code",
      "metadata": {
        "colab": {
          "base_uri": "https://localhost:8080/"
        },
        "id": "Ys2eWCwpAZwl",
        "outputId": "d34a0f9e-f566-46f7-aeea-6a3ffdd61d8d"
      },
      "source": [
        "# Drop Duplicate Values\n",
        "dframe[dframe.duplicated(['headline','is_sarcastic'])].count()"
      ],
      "execution_count": 12,
      "outputs": [
        {
          "output_type": "execute_result",
          "data": {
            "text/plain": [
              "headline        107\n",
              "is_sarcastic    107\n",
              "dtype: int64"
            ]
          },
          "metadata": {
            "tags": []
          },
          "execution_count": 12
        }
      ]
    },
    {
      "cell_type": "code",
      "metadata": {
        "colab": {
          "base_uri": "https://localhost:8080/"
        },
        "id": "TjOKDN3hAmCh",
        "outputId": "c3e87bc5-802e-4d1b-e68f-6213d5107626"
      },
      "source": [
        "dframe.drop_duplicates(subset=['headline','is_sarcastic'],inplace = True)\n",
        "dframe.info()"
      ],
      "execution_count": 13,
      "outputs": [
        {
          "output_type": "stream",
          "text": [
            "<class 'pandas.core.frame.DataFrame'>\n",
            "Int64Index: 26602 entries, 0 to 26708\n",
            "Data columns (total 2 columns):\n",
            " #   Column        Non-Null Count  Dtype \n",
            "---  ------        --------------  ----- \n",
            " 0   headline      26602 non-null  object\n",
            " 1   is_sarcastic  26602 non-null  int64 \n",
            "dtypes: int64(1), object(1)\n",
            "memory usage: 623.5+ KB\n"
          ],
          "name": "stdout"
        }
      ]
    },
    {
      "cell_type": "code",
      "metadata": {
        "colab": {
          "base_uri": "https://localhost:8080/"
        },
        "id": "-VKPzR3yAyJs",
        "outputId": "cf70bec6-7f60-4d79-aa04-7d9e36b35078"
      },
      "source": [
        "dframe[dframe.duplicated(['headline','is_sarcastic'])].count()"
      ],
      "execution_count": 14,
      "outputs": [
        {
          "output_type": "execute_result",
          "data": {
            "text/plain": [
              "headline        0\n",
              "is_sarcastic    0\n",
              "dtype: int64"
            ]
          },
          "metadata": {
            "tags": []
          },
          "execution_count": 14
        }
      ]
    },
    {
      "cell_type": "markdown",
      "metadata": {
        "id": "CeoykxraA7BP"
      },
      "source": [
        "**Get length of each sentence**"
      ]
    },
    {
      "cell_type": "code",
      "metadata": {
        "colab": {
          "base_uri": "https://localhost:8080/"
        },
        "id": "Isjq4B9LA9Qv",
        "outputId": "bccf1897-da63-4ad9-f3a8-8cda8eb7720d"
      },
      "source": [
        "measurer = np.vectorize(len)\n",
        "measurer(dframe['headline'].astype(str))"
      ],
      "execution_count": 15,
      "outputs": [
        {
          "output_type": "execute_result",
          "data": {
            "text/plain": [
              "array([78, 84, 79, ..., 21, 60, 33])"
            ]
          },
          "metadata": {
            "tags": []
          },
          "execution_count": 15
        }
      ]
    },
    {
      "cell_type": "code",
      "metadata": {
        "colab": {
          "base_uri": "https://localhost:8080/"
        },
        "id": "3sVClD2MBX88",
        "outputId": "28a49ac8-7fb5-4f1e-cebe-7470caec1986"
      },
      "source": [
        "for a in dframe['headline']:\n",
        "  if len(a) > 230:\n",
        "    print(len(a))"
      ],
      "execution_count": 16,
      "outputs": [
        {
          "output_type": "stream",
          "text": [
            "237\n",
            "238\n",
            "254\n"
          ],
          "name": "stdout"
        }
      ]
    },
    {
      "cell_type": "code",
      "metadata": {
        "colab": {
          "base_uri": "https://localhost:8080/"
        },
        "id": "2aar3H1dBlFX",
        "outputId": "43c0d003-a8dd-4dc4-fa8d-7042a2bac759"
      },
      "source": [
        "measurer(dframe['headline'].astype(str)).max()"
      ],
      "execution_count": 17,
      "outputs": [
        {
          "output_type": "execute_result",
          "data": {
            "text/plain": [
              "254"
            ]
          },
          "metadata": {
            "tags": []
          },
          "execution_count": 17
        }
      ]
    },
    {
      "cell_type": "code",
      "metadata": {
        "colab": {
          "base_uri": "https://localhost:8080/"
        },
        "id": "iny9wkCDBr2V",
        "outputId": "ec6e196c-aa2f-4090-eee3-213363014c4a"
      },
      "source": [
        "maxlen = max([len(txt) for txt in dframe['headline']])\n",
        "print('Maximum Sentence Length: ', maxlen)"
      ],
      "execution_count": 18,
      "outputs": [
        {
          "output_type": "stream",
          "text": [
            "Maximum Sentence Length:  254\n"
          ],
          "name": "stdout"
        }
      ]
    },
    {
      "cell_type": "markdown",
      "metadata": {
        "id": "sBz3z8-sB8fT"
      },
      "source": [
        "**Set Different Parameters**"
      ]
    },
    {
      "cell_type": "code",
      "metadata": {
        "id": "d3tXni-oB7dQ"
      },
      "source": [
        "max_features = 10000\n",
        "embedding_size = 300"
      ],
      "execution_count": 19,
      "outputs": []
    },
    {
      "cell_type": "code",
      "metadata": {
        "id": "RUHztDZSCEzL"
      },
      "source": [
        "headline_text = dframe['headline']"
      ],
      "execution_count": 20,
      "outputs": []
    },
    {
      "cell_type": "code",
      "metadata": {
        "id": "v0Opz_P-CLwQ"
      },
      "source": [
        "#Tokenizer for headline column\n",
        "tokenizer = Tokenizer(num_words=max_features)\n",
        "tokenizer.fit_on_texts(headline_text)"
      ],
      "execution_count": 21,
      "outputs": []
    },
    {
      "cell_type": "code",
      "metadata": {
        "colab": {
          "base_uri": "https://localhost:8080/"
        },
        "id": "8v__DWuMCP-i",
        "outputId": "3556063a-5f4b-4ee5-d3c6-9bf858ad23f3"
      },
      "source": [
        "headline_text.head(4)"
      ],
      "execution_count": 22,
      "outputs": [
        {
          "output_type": "execute_result",
          "data": {
            "text/plain": [
              "0    former versace store clerk sues over secret 'b...\n",
              "1    the 'roseanne' revival catches up to our thorn...\n",
              "2    mom starting to fear son's web series closest ...\n",
              "3    boehner just wants wife to listen, not come up...\n",
              "Name: headline, dtype: object"
            ]
          },
          "metadata": {
            "tags": []
          },
          "execution_count": 22
        }
      ]
    },
    {
      "cell_type": "code",
      "metadata": {
        "colab": {
          "base_uri": "https://localhost:8080/"
        },
        "id": "fcGVwQF0Cc_b",
        "outputId": "b82d0610-feea-4f43-85c0-efbf39c29d78"
      },
      "source": [
        "X = tokenizer.texts_to_sequences(headline_text)\n",
        "X = pad_sequences(X, maxlen = maxlen)\n",
        "y = np.asarray(dframe['is_sarcastic'])\n",
        "\n",
        "print(\"Number of Samples:\", len(X))\n",
        "print(X[0])\n",
        "print(\"Number of Labels: \", len(y))\n",
        "print(y[0])"
      ],
      "execution_count": 23,
      "outputs": [
        {
          "output_type": "stream",
          "text": [
            "Number of Samples: 26602\n",
            "[   0    0    0    0    0    0    0    0    0    0    0    0    0    0\n",
            "    0    0    0    0    0    0    0    0    0    0    0    0    0    0\n",
            "    0    0    0    0    0    0    0    0    0    0    0    0    0    0\n",
            "    0    0    0    0    0    0    0    0    0    0    0    0    0    0\n",
            "    0    0    0    0    0    0    0    0    0    0    0    0    0    0\n",
            "    0    0    0    0    0    0    0    0    0    0    0    0    0    0\n",
            "    0    0    0    0    0    0    0    0    0    0    0    0    0    0\n",
            "    0    0    0    0    0    0    0    0    0    0    0    0    0    0\n",
            "    0    0    0    0    0    0    0    0    0    0    0    0    0    0\n",
            "    0    0    0    0    0    0    0    0    0    0    0    0    0    0\n",
            "    0    0    0    0    0    0    0    0    0    0    0    0    0    0\n",
            "    0    0    0    0    0    0    0    0    0    0    0    0    0    0\n",
            "    0    0    0    0    0    0    0    0    0    0    0    0    0    0\n",
            "    0    0    0    0    0    0    0    0    0    0    0    0    0    0\n",
            "    0    0    0    0    0    0    0    0    0    0    0    0    0    0\n",
            "    0    0    0    0    0    0    0    0    0    0    0    0    0    0\n",
            "    0    0    0    0    0    0    0    0    0    0    0    0    0    0\n",
            "    0    0    0    0    0    0  307  676 3610 2292   47  381 2565    5\n",
            " 2566 8412]\n",
            "Number of Labels:  26602\n",
            "0\n"
          ],
          "name": "stdout"
        }
      ]
    },
    {
      "cell_type": "code",
      "metadata": {
        "colab": {
          "base_uri": "https://localhost:8080/"
        },
        "id": "xQctbmAhClxa",
        "outputId": "decf997c-ae80-49e3-8576-0210bb358089"
      },
      "source": [
        "vocab_size = len(tokenizer.word_index)\n",
        "print('vocablury size: ', vocab_size)"
      ],
      "execution_count": 24,
      "outputs": [
        {
          "output_type": "stream",
          "text": [
            "vocablury size:  29656\n"
          ],
          "name": "stdout"
        }
      ]
    },
    {
      "cell_type": "code",
      "metadata": {
        "colab": {
          "base_uri": "https://localhost:8080/"
        },
        "id": "gQX9wiN9CpKt",
        "outputId": "91b1881b-3cd5-4f30-bb7b-a2a7cad57ec8"
      },
      "source": [
        "tokenizer.word_index"
      ],
      "execution_count": 25,
      "outputs": [
        {
          "output_type": "execute_result",
          "data": {
            "text/plain": [
              "{'to': 1,\n",
              " 'of': 2,\n",
              " 'the': 3,\n",
              " 'in': 4,\n",
              " 'for': 5,\n",
              " 'a': 6,\n",
              " 'on': 7,\n",
              " 'and': 8,\n",
              " 'with': 9,\n",
              " 'is': 10,\n",
              " 'new': 11,\n",
              " 'trump': 12,\n",
              " 'man': 13,\n",
              " 'from': 14,\n",
              " 'at': 15,\n",
              " 'about': 16,\n",
              " 'you': 17,\n",
              " 'by': 18,\n",
              " 'this': 19,\n",
              " 'after': 20,\n",
              " 'up': 21,\n",
              " 'out': 22,\n",
              " 'be': 23,\n",
              " 'how': 24,\n",
              " 'as': 25,\n",
              " 'it': 26,\n",
              " 'that': 27,\n",
              " 'not': 28,\n",
              " 'are': 29,\n",
              " 'your': 30,\n",
              " 'his': 31,\n",
              " 'what': 32,\n",
              " 'he': 33,\n",
              " 'all': 34,\n",
              " 'just': 35,\n",
              " 'who': 36,\n",
              " 'has': 37,\n",
              " 'will': 38,\n",
              " 'more': 39,\n",
              " 'one': 40,\n",
              " 'report': 41,\n",
              " 'into': 42,\n",
              " 'year': 43,\n",
              " 'why': 44,\n",
              " 'have': 45,\n",
              " 'area': 46,\n",
              " 'over': 47,\n",
              " 'donald': 48,\n",
              " 'u': 49,\n",
              " 'day': 50,\n",
              " 's': 51,\n",
              " 'says': 52,\n",
              " 'can': 53,\n",
              " 'first': 54,\n",
              " 'woman': 55,\n",
              " 'time': 56,\n",
              " 'like': 57,\n",
              " 'her': 58,\n",
              " \"trump's\": 59,\n",
              " 'old': 60,\n",
              " 'no': 61,\n",
              " 'get': 62,\n",
              " 'off': 63,\n",
              " 'an': 64,\n",
              " 'life': 65,\n",
              " 'people': 66,\n",
              " 'obama': 67,\n",
              " 'now': 68,\n",
              " 'house': 69,\n",
              " 'still': 70,\n",
              " 'make': 71,\n",
              " 'was': 72,\n",
              " 'than': 73,\n",
              " \"'\": 74,\n",
              " 'white': 75,\n",
              " 'back': 76,\n",
              " 'women': 77,\n",
              " 'my': 78,\n",
              " 'i': 79,\n",
              " 'clinton': 80,\n",
              " 'down': 81,\n",
              " 'if': 82,\n",
              " '5': 83,\n",
              " 'when': 84,\n",
              " 'world': 85,\n",
              " 'could': 86,\n",
              " 'we': 87,\n",
              " 'their': 88,\n",
              " 'before': 89,\n",
              " 'americans': 90,\n",
              " 'do': 91,\n",
              " 'family': 92,\n",
              " 'way': 93,\n",
              " 'most': 94,\n",
              " 'gop': 95,\n",
              " 'they': 96,\n",
              " 'study': 97,\n",
              " 'school': 98,\n",
              " \"it's\": 99,\n",
              " 'black': 100,\n",
              " 'years': 101,\n",
              " 'best': 102,\n",
              " 'bill': 103,\n",
              " 'should': 104,\n",
              " '3': 105,\n",
              " 'would': 106,\n",
              " 'police': 107,\n",
              " 'so': 108,\n",
              " 'him': 109,\n",
              " 'watch': 110,\n",
              " 'american': 111,\n",
              " 'really': 112,\n",
              " 'being': 113,\n",
              " 'but': 114,\n",
              " 'last': 115,\n",
              " 'only': 116,\n",
              " 'know': 117,\n",
              " '10': 118,\n",
              " \"can't\": 119,\n",
              " 'home': 120,\n",
              " 'during': 121,\n",
              " 'death': 122,\n",
              " 'video': 123,\n",
              " 'finds': 124,\n",
              " 'state': 125,\n",
              " 'or': 126,\n",
              " 'president': 127,\n",
              " 'going': 128,\n",
              " 'health': 129,\n",
              " 'say': 130,\n",
              " 'good': 131,\n",
              " 'show': 132,\n",
              " 'things': 133,\n",
              " \"'the\": 134,\n",
              " 'hillary': 135,\n",
              " '2': 136,\n",
              " 'may': 137,\n",
              " 'against': 138,\n",
              " 'nation': 139,\n",
              " 'she': 140,\n",
              " 'campaign': 141,\n",
              " 'love': 142,\n",
              " 'every': 143,\n",
              " 'mom': 144,\n",
              " 'need': 145,\n",
              " 'big': 146,\n",
              " 'right': 147,\n",
              " '000': 148,\n",
              " 'party': 149,\n",
              " 'too': 150,\n",
              " 'gets': 151,\n",
              " 'getting': 152,\n",
              " 'these': 153,\n",
              " 'kids': 154,\n",
              " 'some': 155,\n",
              " 'work': 156,\n",
              " 'court': 157,\n",
              " 'little': 158,\n",
              " 'change': 159,\n",
              " 'take': 160,\n",
              " 'high': 161,\n",
              " 'makes': 162,\n",
              " 'parents': 163,\n",
              " 'our': 164,\n",
              " 'self': 165,\n",
              " 'calls': 166,\n",
              " 'john': 167,\n",
              " 'news': 168,\n",
              " 'other': 169,\n",
              " \"doesn't\": 170,\n",
              " 'while': 171,\n",
              " \"here's\": 172,\n",
              " 'through': 173,\n",
              " 'never': 174,\n",
              " 'child': 175,\n",
              " 'look': 176,\n",
              " 'election': 177,\n",
              " 'want': 178,\n",
              " 'gay': 179,\n",
              " 'dead': 180,\n",
              " 'own': 181,\n",
              " '4': 182,\n",
              " \"don't\": 183,\n",
              " 'see': 184,\n",
              " 'takes': 185,\n",
              " 'america': 186,\n",
              " '7': 187,\n",
              " 'local': 188,\n",
              " 'real': 189,\n",
              " 'next': 190,\n",
              " 'stop': 191,\n",
              " 'its': 192,\n",
              " 'even': 193,\n",
              " 'war': 194,\n",
              " 'college': 195,\n",
              " '6': 196,\n",
              " 'go': 197,\n",
              " \"he's\": 198,\n",
              " \"nation's\": 199,\n",
              " 'sex': 200,\n",
              " 'where': 201,\n",
              " 'bush': 202,\n",
              " 'made': 203,\n",
              " 'plan': 204,\n",
              " 'office': 205,\n",
              " 'again': 206,\n",
              " 'two': 207,\n",
              " 'guy': 208,\n",
              " 'another': 209,\n",
              " 'dad': 210,\n",
              " 'around': 211,\n",
              " 'dog': 212,\n",
              " 'got': 213,\n",
              " 'million': 214,\n",
              " 'ever': 215,\n",
              " '1': 216,\n",
              " 'baby': 217,\n",
              " 'debate': 218,\n",
              " 'thing': 219,\n",
              " 'gun': 220,\n",
              " 'wants': 221,\n",
              " 'care': 222,\n",
              " 'them': 223,\n",
              " 'us': 224,\n",
              " 'help': 225,\n",
              " 'much': 226,\n",
              " 'long': 227,\n",
              " 'night': 228,\n",
              " 'job': 229,\n",
              " 'finally': 230,\n",
              " 'congress': 231,\n",
              " 'north': 232,\n",
              " 'been': 233,\n",
              " 'under': 234,\n",
              " \"man's\": 235,\n",
              " 'actually': 236,\n",
              " 'star': 237,\n",
              " 'live': 238,\n",
              " 'climate': 239,\n",
              " 'national': 240,\n",
              " 'season': 241,\n",
              " 'couple': 242,\n",
              " 'money': 243,\n",
              " \"won't\": 244,\n",
              " '8': 245,\n",
              " '9': 246,\n",
              " 'week': 247,\n",
              " 'top': 248,\n",
              " 'anti': 249,\n",
              " 'media': 250,\n",
              " 'ways': 251,\n",
              " 'god': 252,\n",
              " 'shows': 253,\n",
              " 'sexual': 254,\n",
              " 'food': 255,\n",
              " 'better': 256,\n",
              " 'give': 257,\n",
              " 'shooting': 258,\n",
              " 'had': 259,\n",
              " 'teen': 260,\n",
              " 'face': 261,\n",
              " 'making': 262,\n",
              " 'paul': 263,\n",
              " 'game': 264,\n",
              " 'me': 265,\n",
              " 'trying': 266,\n",
              " 'senate': 267,\n",
              " 'supreme': 268,\n",
              " 'announces': 269,\n",
              " 'reveals': 270,\n",
              " 'there': 271,\n",
              " 'away': 272,\n",
              " 'men': 273,\n",
              " 'history': 274,\n",
              " 'business': 275,\n",
              " 'bad': 276,\n",
              " 'without': 277,\n",
              " 'students': 278,\n",
              " 'attack': 279,\n",
              " 'end': 280,\n",
              " 'story': 281,\n",
              " 'fight': 282,\n",
              " '20': 283,\n",
              " 'facebook': 284,\n",
              " 'everyone': 285,\n",
              " 'son': 286,\n",
              " 'free': 287,\n",
              " 'children': 288,\n",
              " 'enough': 289,\n",
              " 'tv': 290,\n",
              " 'law': 291,\n",
              " 'movie': 292,\n",
              " 'city': 293,\n",
              " 'introduces': 294,\n",
              " 'any': 295,\n",
              " 'deal': 296,\n",
              " 'government': 297,\n",
              " 'body': 298,\n",
              " 'pope': 299,\n",
              " 'part': 300,\n",
              " 'york': 301,\n",
              " '11': 302,\n",
              " 'tell': 303,\n",
              " 'great': 304,\n",
              " 'film': 305,\n",
              " 'does': 306,\n",
              " 'former': 307,\n",
              " 'single': 308,\n",
              " 'entire': 309,\n",
              " 'friends': 310,\n",
              " 'fire': 311,\n",
              " 'call': 312,\n",
              " 'found': 313,\n",
              " 'friend': 314,\n",
              " 'wedding': 315,\n",
              " 'think': 316,\n",
              " 'book': 317,\n",
              " 'come': 318,\n",
              " 'republican': 319,\n",
              " 'girl': 320,\n",
              " 'find': 321,\n",
              " 'second': 322,\n",
              " 'must': 323,\n",
              " 'middle': 324,\n",
              " 'support': 325,\n",
              " 'speech': 326,\n",
              " 'morning': 327,\n",
              " 'public': 328,\n",
              " 'same': 329,\n",
              " 'photos': 330,\n",
              " 'use': 331,\n",
              " 'talk': 332,\n",
              " 'car': 333,\n",
              " 'sanders': 334,\n",
              " 'name': 335,\n",
              " 'keep': 336,\n",
              " 'run': 337,\n",
              " 'already': 338,\n",
              " 'presidential': 339,\n",
              " 'line': 340,\n",
              " 'thinks': 341,\n",
              " 'james': 342,\n",
              " 'looking': 343,\n",
              " 'republicans': 344,\n",
              " \"didn't\": 345,\n",
              " 'tax': 346,\n",
              " 'coming': 347,\n",
              " 'pretty': 348,\n",
              " 'case': 349,\n",
              " 'company': 350,\n",
              " 'email': 351,\n",
              " 'behind': 352,\n",
              " 'rights': 353,\n",
              " 'power': 354,\n",
              " 'open': 355,\n",
              " 'future': 356,\n",
              " 'marriage': 357,\n",
              " 'between': 358,\n",
              " 'releases': 359,\n",
              " 'violence': 360,\n",
              " 'christmas': 361,\n",
              " 'security': 362,\n",
              " '2016': 363,\n",
              " \"world's\": 364,\n",
              " 'used': 365,\n",
              " 'human': 366,\n",
              " 'voters': 367,\n",
              " 'once': 368,\n",
              " 'control': 369,\n",
              " 'goes': 370,\n",
              " 'group': 371,\n",
              " 'vote': 372,\n",
              " 'win': 373,\n",
              " 'might': 374,\n",
              " 'democrats': 375,\n",
              " 'killed': 376,\n",
              " 'student': 377,\n",
              " 'full': 378,\n",
              " 'something': 379,\n",
              " 'doing': 380,\n",
              " 'secret': 381,\n",
              " 'asks': 382,\n",
              " 'fans': 383,\n",
              " '12': 384,\n",
              " 'having': 385,\n",
              " 'team': 386,\n",
              " 'bernie': 387,\n",
              " 'department': 388,\n",
              " 'room': 389,\n",
              " 'ban': 390,\n",
              " 'twitter': 391,\n",
              " 'ad': 392,\n",
              " 'because': 393,\n",
              " 'poll': 394,\n",
              " 'teacher': 395,\n",
              " 'female': 396,\n",
              " 'post': 397,\n",
              " 'inside': 398,\n",
              " 'ryan': 399,\n",
              " 'race': 400,\n",
              " 'each': 401,\n",
              " 'wife': 402,\n",
              " 'sure': 403,\n",
              " 'music': 404,\n",
              " 'three': 405,\n",
              " 'meet': 406,\n",
              " 'record': 407,\n",
              " 'forced': 408,\n",
              " 'claims': 409,\n",
              " 'boy': 410,\n",
              " 'missing': 411,\n",
              " 'art': 412,\n",
              " 'political': 413,\n",
              " 'perfect': 414,\n",
              " 'head': 415,\n",
              " 'super': 416,\n",
              " '15': 417,\n",
              " 'very': 418,\n",
              " 'photo': 419,\n",
              " 'many': 420,\n",
              " 'reports': 421,\n",
              " 'unveils': 422,\n",
              " 'red': 423,\n",
              " 'father': 424,\n",
              " 'save': 425,\n",
              " 'class': 426,\n",
              " 'scientists': 427,\n",
              " 'judge': 428,\n",
              " 'days': 429,\n",
              " 'running': 430,\n",
              " 'country': 431,\n",
              " 'person': 432,\n",
              " 'living': 433,\n",
              " 'tells': 434,\n",
              " 'social': 435,\n",
              " 'month': 436,\n",
              " 'plans': 437,\n",
              " 'minutes': 438,\n",
              " 'put': 439,\n",
              " 'summer': 440,\n",
              " 'everything': 441,\n",
              " 'dies': 442,\n",
              " 'california': 443,\n",
              " 'until': 444,\n",
              " 'obamacare': 445,\n",
              " 'states': 446,\n",
              " 'here': 447,\n",
              " 'pay': 448,\n",
              " 'ready': 449,\n",
              " 'texas': 450,\n",
              " 'were': 451,\n",
              " 'michael': 452,\n",
              " 'always': 453,\n",
              " 'looks': 454,\n",
              " 'employee': 455,\n",
              " 'talks': 456,\n",
              " 'candidate': 457,\n",
              " 'needs': 458,\n",
              " 'did': 459,\n",
              " 'eating': 460,\n",
              " 'list': 461,\n",
              " 'justice': 462,\n",
              " 'secretary': 463,\n",
              " 'shot': 464,\n",
              " 'hot': 465,\n",
              " 'warns': 466,\n",
              " 'working': 467,\n",
              " 'times': 468,\n",
              " 'water': 469,\n",
              " 'comes': 470,\n",
              " 'past': 471,\n",
              " 'admits': 472,\n",
              " 'set': 473,\n",
              " 'taking': 474,\n",
              " 'wall': 475,\n",
              " 'heart': 476,\n",
              " 'ceo': 477,\n",
              " 'thought': 478,\n",
              " 'lives': 479,\n",
              " 'left': 480,\n",
              " 'mike': 481,\n",
              " 'mother': 482,\n",
              " 'start': 483,\n",
              " 'town': 484,\n",
              " 'gives': 485,\n",
              " '30': 486,\n",
              " 'let': 487,\n",
              " 'cruz': 488,\n",
              " 'ex': 489,\n",
              " \"'i\": 490,\n",
              " \"women's\": 491,\n",
              " 'kim': 492,\n",
              " 'age': 493,\n",
              " 'russia': 494,\n",
              " 'idea': 495,\n",
              " 'drug': 496,\n",
              " 'chief': 497,\n",
              " 'phone': 498,\n",
              " \"you're\": 499,\n",
              " 'cancer': 500,\n",
              " 'george': 501,\n",
              " 'crisis': 502,\n",
              " 'service': 503,\n",
              " 'biden': 504,\n",
              " 'wins': 505,\n",
              " 'hours': 506,\n",
              " \"i'm\": 507,\n",
              " 'letter': 508,\n",
              " 'south': 509,\n",
              " 'korea': 510,\n",
              " 'lost': 511,\n",
              " 'breaking': 512,\n",
              " 'daughter': 513,\n",
              " 'air': 514,\n",
              " '50': 515,\n",
              " 'wrong': 516,\n",
              " 'probably': 517,\n",
              " 'tips': 518,\n",
              " 'young': 519,\n",
              " 'meeting': 520,\n",
              " 'fbi': 521,\n",
              " 'street': 522,\n",
              " 'dream': 523,\n",
              " 'percent': 524,\n",
              " 'education': 525,\n",
              " 'isis': 526,\n",
              " 'romney': 527,\n",
              " 'word': 528,\n",
              " 'thousands': 529,\n",
              " 'restaurant': 530,\n",
              " 'small': 531,\n",
              " 'nuclear': 532,\n",
              " 'fucking': 533,\n",
              " 'yet': 534,\n",
              " 'kill': 535,\n",
              " 'today': 536,\n",
              " 'believe': 537,\n",
              " 'together': 538,\n",
              " 'half': 539,\n",
              " 'someone': 540,\n",
              " 'ted': 541,\n",
              " 'hard': 542,\n",
              " 'questions': 543,\n",
              " 'military': 544,\n",
              " 'administration': 545,\n",
              " 'king': 546,\n",
              " 'owner': 547,\n",
              " 'feel': 548,\n",
              " 'cat': 549,\n",
              " 'leaves': 550,\n",
              " 'march': 551,\n",
              " 'internet': 552,\n",
              " \"she's\": 553,\n",
              " 'few': 554,\n",
              " 'officials': 555,\n",
              " 'third': 556,\n",
              " 'nothing': 557,\n",
              " 'director': 558,\n",
              " 'federal': 559,\n",
              " 'sleep': 560,\n",
              " 'chris': 561,\n",
              " 'fan': 562,\n",
              " 'place': 563,\n",
              " \"what's\": 564,\n",
              " 'washington': 565,\n",
              " 'guide': 566,\n",
              " 'talking': 567,\n",
              " 'online': 568,\n",
              " 'attacks': 569,\n",
              " 'rock': 570,\n",
              " 'muslim': 571,\n",
              " 'earth': 572,\n",
              " 'giving': 573,\n",
              " 'move': 574,\n",
              " 'lot': 575,\n",
              " 'florida': 576,\n",
              " 'ask': 577,\n",
              " 'iran': 578,\n",
              " 'latest': 579,\n",
              " 'series': 580,\n",
              " 'holiday': 581,\n",
              " 'congressman': 582,\n",
              " 'community': 583,\n",
              " 'abortion': 584,\n",
              " 'well': 585,\n",
              " 'order': 586,\n",
              " 'buy': 587,\n",
              " 'less': 588,\n",
              " 'months': 589,\n",
              " 'majority': 590,\n",
              " 'birthday': 591,\n",
              " 'hour': 592,\n",
              " 't': 593,\n",
              " 'prison': 594,\n",
              " '2015': 595,\n",
              " 'outside': 596,\n",
              " 'problem': 597,\n",
              " 'leave': 598,\n",
              " 'assault': 599,\n",
              " 'those': 600,\n",
              " 'shit': 601,\n",
              " 'travel': 602,\n",
              " 'hollywood': 603,\n",
              " 'wearing': 604,\n",
              " 'beautiful': 605,\n",
              " 'personal': 606,\n",
              " \"isn't\": 607,\n",
              " 'reason': 608,\n",
              " 'bar': 609,\n",
              " 'francis': 610,\n",
              " 'told': 611,\n",
              " 'democratic': 612,\n",
              " 'different': 613,\n",
              " 'favorite': 614,\n",
              " 'cover': 615,\n",
              " 'girlfriend': 616,\n",
              " 'rules': 617,\n",
              " 'rise': 618,\n",
              " 'ice': 619,\n",
              " 'happy': 620,\n",
              " 'fox': 621,\n",
              " 'fun': 622,\n",
              " 'special': 623,\n",
              " 'mark': 624,\n",
              " 'issues': 625,\n",
              " 'system': 626,\n",
              " 'read': 627,\n",
              " 'reasons': 628,\n",
              " 'girls': 629,\n",
              " 'straight': 630,\n",
              " 'play': 631,\n",
              " \"america's\": 632,\n",
              " 'al': 633,\n",
              " 'celebrates': 634,\n",
              " \"obama's\": 635,\n",
              " 'thinking': 636,\n",
              " 'hate': 637,\n",
              " 'excited': 638,\n",
              " 'relationship': 639,\n",
              " 'trip': 640,\n",
              " 'hit': 641,\n",
              " 'response': 642,\n",
              " 'huffpost': 643,\n",
              " 'knows': 644,\n",
              " 'russian': 645,\n",
              " 'watching': 646,\n",
              " 'immigration': 647,\n",
              " 'protest': 648,\n",
              " 'scott': 649,\n",
              " 'following': 650,\n",
              " '100': 651,\n",
              " 'minute': 652,\n",
              " 'front': 653,\n",
              " 'message': 654,\n",
              " 'trailer': 655,\n",
              " 'stars': 656,\n",
              " 'leaders': 657,\n",
              " 'stephen': 658,\n",
              " 'hair': 659,\n",
              " 'huge': 660,\n",
              " 'gift': 661,\n",
              " 'david': 662,\n",
              " 'union': 663,\n",
              " 'using': 664,\n",
              " 'offers': 665,\n",
              " 'kind': 666,\n",
              " 'kid': 667,\n",
              " 'since': 668,\n",
              " 'moment': 669,\n",
              " 'china': 670,\n",
              " 'chinese': 671,\n",
              " 'birth': 672,\n",
              " 'non': 673,\n",
              " 'cop': 674,\n",
              " 'visit': 675,\n",
              " 'store': 676,\n",
              " 'box': 677,\n",
              " 'lessons': 678,\n",
              " 'late': 679,\n",
              " 'hope': 680,\n",
              " 'accused': 681,\n",
              " 'taylor': 682,\n",
              " 'date': 683,\n",
              " 'career': 684,\n",
              " 'interview': 685,\n",
              " 'himself': 686,\n",
              " 'politics': 687,\n",
              " 'weekend': 688,\n",
              " 'called': 689,\n",
              " 'victims': 690,\n",
              " 'least': 691,\n",
              " 'bring': 692,\n",
              " 'senator': 693,\n",
              " 'whole': 694,\n",
              " 'tom': 695,\n",
              " 'conversation': 696,\n",
              " 'adorable': 697,\n",
              " 'waiting': 698,\n",
              " 'jimmy': 699,\n",
              " 'early': 700,\n",
              " 'break': 701,\n",
              " 'sports': 702,\n",
              " 'syria': 703,\n",
              " 'powerful': 704,\n",
              " 'drunk': 705,\n",
              " 'c': 706,\n",
              " 'point': 707,\n",
              " 'united': 708,\n",
              " 'leader': 709,\n",
              " 'anything': 710,\n",
              " 'become': 711,\n",
              " 'opens': 712,\n",
              " 'learned': 713,\n",
              " 'words': 714,\n",
              " 'millions': 715,\n",
              " 'k': 716,\n",
              " 'die': 717,\n",
              " 'fashion': 718,\n",
              " 'cops': 719,\n",
              " \"they're\": 720,\n",
              " 'reality': 721,\n",
              " 'billion': 722,\n",
              " 'fall': 723,\n",
              " 'investigation': 724,\n",
              " 'key': 725,\n",
              " 'true': 726,\n",
              " 'host': 727,\n",
              " 'returns': 728,\n",
              " 'joe': 729,\n",
              " 'syrian': 730,\n",
              " 'massive': 731,\n",
              " '40': 732,\n",
              " 'almost': 733,\n",
              " 'turn': 734,\n",
              " 'breaks': 735,\n",
              " 'driving': 736,\n",
              " 'mass': 737,\n",
              " 'global': 738,\n",
              " 'dating': 739,\n",
              " 'far': 740,\n",
              " 'policy': 741,\n",
              " 'schools': 742,\n",
              " 'stand': 743,\n",
              " 'trans': 744,\n",
              " 'totally': 745,\n",
              " 'dinner': 746,\n",
              " 'oil': 747,\n",
              " 'killing': 748,\n",
              " 'apple': 749,\n",
              " 'un': 750,\n",
              " 'awards': 751,\n",
              " 'queer': 752,\n",
              " 'worried': 753,\n",
              " 'kills': 754,\n",
              " 'iraq': 755,\n",
              " 'song': 756,\n",
              " 'dance': 757,\n",
              " 'turns': 758,\n",
              " 'spends': 759,\n",
              " 'stage': 760,\n",
              " 'sign': 761,\n",
              " 'candidates': 762,\n",
              " 'j': 763,\n",
              " 'vows': 764,\n",
              " 'risk': 765,\n",
              " 'bus': 766,\n",
              " 'low': 767,\n",
              " 'names': 768,\n",
              " 'final': 769,\n",
              " 'planned': 770,\n",
              " 'feels': 771,\n",
              " 'anniversary': 772,\n",
              " 'lgbt': 773,\n",
              " 'puts': 774,\n",
              " 'signs': 775,\n",
              " 'tweets': 776,\n",
              " 'murder': 777,\n",
              " 'seen': 778,\n",
              " 'prince': 779,\n",
              " 'reportedly': 780,\n",
              " 'hits': 781,\n",
              " 'light': 782,\n",
              " 'sick': 783,\n",
              " 'd': 784,\n",
              " 'worst': 785,\n",
              " 'surprise': 786,\n",
              " 'hands': 787,\n",
              " 'transgender': 788,\n",
              " 'weird': 789,\n",
              " 'nfl': 790,\n",
              " 'return': 791,\n",
              " 'moving': 792,\n",
              " \"there's\": 793,\n",
              " 'jr': 794,\n",
              " 'pence': 795,\n",
              " 'mind': 796,\n",
              " 'center': 797,\n",
              " 'decision': 798,\n",
              " 'adds': 799,\n",
              " 'longer': 800,\n",
              " 'workers': 801,\n",
              " 'advice': 802,\n",
              " 'crash': 803,\n",
              " 'near': 804,\n",
              " 'eat': 805,\n",
              " 'struggling': 806,\n",
              " 'oscar': 807,\n",
              " 'across': 808,\n",
              " 'style': 809,\n",
              " 'kardashian': 810,\n",
              " 'employees': 811,\n",
              " 'test': 812,\n",
              " '13': 813,\n",
              " 'cut': 814,\n",
              " 'keeps': 815,\n",
              " 'band': 816,\n",
              " 'industry': 817,\n",
              " 'experience': 818,\n",
              " 'side': 819,\n",
              " 'coffee': 820,\n",
              " 'check': 821,\n",
              " '2014': 822,\n",
              " 'worth': 823,\n",
              " 'number': 824,\n",
              " 'rubio': 825,\n",
              " 'brings': 826,\n",
              " 'discover': 827,\n",
              " 'door': 828,\n",
              " 'lead': 829,\n",
              " 'five': 830,\n",
              " 'completely': 831,\n",
              " 'hoping': 832,\n",
              " 'university': 833,\n",
              " '2017': 834,\n",
              " 'official': 835,\n",
              " 'starting': 836,\n",
              " 'lose': 837,\n",
              " 'whether': 838,\n",
              " 'force': 839,\n",
              " 'paris': 840,\n",
              " 'weight': 841,\n",
              " 'road': 842,\n",
              " 'space': 843,\n",
              " 'west': 844,\n",
              " 'audience': 845,\n",
              " 'important': 846,\n",
              " 'hand': 847,\n",
              " 'steve': 848,\n",
              " 'playing': 849,\n",
              " 'reform': 850,\n",
              " 'cool': 851,\n",
              " 'fighting': 852,\n",
              " 'suspect': 853,\n",
              " 'given': 854,\n",
              " 'defense': 855,\n",
              " 'program': 856,\n",
              " 'artist': 857,\n",
              " 'nyc': 858,\n",
              " 'williams': 859,\n",
              " 'role': 860,\n",
              " 'building': 861,\n",
              " 'michelle': 862,\n",
              " 'peace': 863,\n",
              " 'carolina': 864,\n",
              " 'chicago': 865,\n",
              " 'act': 866,\n",
              " 'pro': 867,\n",
              " 'possible': 868,\n",
              " 'apartment': 869,\n",
              " 'governor': 870,\n",
              " 'iowa': 871,\n",
              " 'executive': 872,\n",
              " 'success': 873,\n",
              " 'ferguson': 874,\n",
              " 'amazon': 875,\n",
              " 'biggest': 876,\n",
              " 'protesters': 877,\n",
              " 'suicide': 878,\n",
              " 'hall': 879,\n",
              " 'abuse': 880,\n",
              " 'which': 881,\n",
              " 'clearly': 882,\n",
              " 'major': 883,\n",
              " 'push': 884,\n",
              " 'hurricane': 885,\n",
              " 'allegations': 886,\n",
              " 'remember': 887,\n",
              " 'halloween': 888,\n",
              " 'oscars': 889,\n",
              " 'homeless': 890,\n",
              " 'israel': 891,\n",
              " 'general': 892,\n",
              " 'data': 893,\n",
              " 'mental': 894,\n",
              " 'coworker': 895,\n",
              " 'close': 896,\n",
              " 'question': 897,\n",
              " 'ben': 898,\n",
              " 'chance': 899,\n",
              " 'hear': 900,\n",
              " 'demands': 901,\n",
              " 'fear': 902,\n",
              " 'wishes': 903,\n",
              " 'opening': 904,\n",
              " 'members': 905,\n",
              " 'celebrate': 906,\n",
              " 'supporters': 907,\n",
              " 'google': 908,\n",
              " 'moore': 909,\n",
              " 'football': 910,\n",
              " 'voice': 911,\n",
              " 'easy': 912,\n",
              " 'teens': 913,\n",
              " 'card': 914,\n",
              " 'kerry': 915,\n",
              " 'wait': 916,\n",
              " 'moms': 917,\n",
              " 'try': 918,\n",
              " 'board': 919,\n",
              " 'throws': 920,\n",
              " 'magazine': 921,\n",
              " 'tour': 922,\n",
              " 'pizza': 923,\n",
              " 'dying': 924,\n",
              " 'press': 925,\n",
              " 'chicken': 926,\n",
              " 'urges': 927,\n",
              " 'reveal': 928,\n",
              " 'simple': 929,\n",
              " 'green': 930,\n",
              " 'economy': 931,\n",
              " 'problems': 932,\n",
              " 'culture': 933,\n",
              " 'lgbtq': 934,\n",
              " 'asking': 935,\n",
              " 'ebola': 936,\n",
              " 'robert': 937,\n",
              " 'learn': 938,\n",
              " 'performance': 939,\n",
              " 'album': 940,\n",
              " 'church': 941,\n",
              " 'begins': 942,\n",
              " 'officer': 943,\n",
              " 'shop': 944,\n",
              " 'poor': 945,\n",
              " 'uses': 946,\n",
              " 'plane': 947,\n",
              " 'families': 948,\n",
              " 'harassment': 949,\n",
              " 'picture': 950,\n",
              " 'jobs': 951,\n",
              " 'sean': 952,\n",
              " 'voter': 953,\n",
              " 'beauty': 954,\n",
              " 'doctor': 955,\n",
              " 'spot': 956,\n",
              " 'shares': 957,\n",
              " 'leads': 958,\n",
              " 'hilarious': 959,\n",
              " 'pregnant': 960,\n",
              " 'suggests': 961,\n",
              " 'rally': 962,\n",
              " 'results': 963,\n",
              " '18': 964,\n",
              " 'jenner': 965,\n",
              " 'arrested': 966,\n",
              " 'male': 967,\n",
              " 'leaving': 968,\n",
              " 'address': 969,\n",
              " 'rest': 970,\n",
              " 'receives': 971,\n",
              " 'amid': 972,\n",
              " 'epa': 973,\n",
              " 'deadly': 974,\n",
              " 'netflix': 975,\n",
              " 'desperate': 976,\n",
              " 'planet': 977,\n",
              " 'cnn': 978,\n",
              " 'marijuana': 979,\n",
              " 'quietly': 980,\n",
              " 'fails': 981,\n",
              " 'demand': 982,\n",
              " 'action': 983,\n",
              " 'website': 984,\n",
              " 'pick': 985,\n",
              " \"we're\": 986,\n",
              " 'explains': 987,\n",
              " 'table': 988,\n",
              " 'energy': 989,\n",
              " 'users': 990,\n",
              " 'feeling': 991,\n",
              " 'sales': 992,\n",
              " 'colbert': 993,\n",
              " 'apparently': 994,\n",
              " \"let's\": 995,\n",
              " 'amazing': 996,\n",
              " 'went': 997,\n",
              " 'budget': 998,\n",
              " 'worse': 999,\n",
              " 'ideas': 1000,\n",
              " ...}"
            ]
          },
          "metadata": {
            "tags": []
          },
          "execution_count": 25
        }
      ]
    },
    {
      "cell_type": "markdown",
      "metadata": {
        "id": "ttelNbyqDP7m"
      },
      "source": [
        "**Glove Word Embeddings**"
      ]
    },
    {
      "cell_type": "code",
      "metadata": {
        "id": "7qWn2Hz1CvlP"
      },
      "source": [
        "embeddings = {}\n",
        "for o in open('/content/drive/MyDrive/My Drive/AIML/NLP/NLP2/glove.6B.300d.txt'):\n",
        "    word = o.split(\" \")[0]    \n",
        "    embd = o.split(\" \")[1:]\n",
        "    embd = np.asarray(embd, dtype='float32')    \n",
        "    embeddings[word] = embd"
      ],
      "execution_count": 26,
      "outputs": []
    },
    {
      "cell_type": "markdown",
      "metadata": {
        "id": "iu02S4FQDGCW"
      },
      "source": [
        "**Weight matrix for words**"
      ]
    },
    {
      "cell_type": "code",
      "metadata": {
        "id": "VPMhd7uYDKbd"
      },
      "source": [
        "num_words = vocab_size +1"
      ],
      "execution_count": 27,
      "outputs": []
    },
    {
      "cell_type": "code",
      "metadata": {
        "colab": {
          "base_uri": "https://localhost:8080/"
        },
        "id": "agiAlOoTDZPc",
        "outputId": "b1e05963-c781-46cb-86a1-6352b7272bc3"
      },
      "source": [
        "embedding_matrix = np.zeros((num_words, 300))\n",
        "\n",
        "for word, i in tokenizer.word_index.items():\n",
        "    embedding_vector = embeddings.get(word)\n",
        "    if embedding_vector is not None:\n",
        "      embedding_matrix[i] = embedding_vector\n",
        "\n",
        "len(embeddings.values())"
      ],
      "execution_count": 28,
      "outputs": [
        {
          "output_type": "execute_result",
          "data": {
            "text/plain": [
              "400000"
            ]
          },
          "metadata": {
            "tags": []
          },
          "execution_count": 28
        }
      ]
    },
    {
      "cell_type": "markdown",
      "metadata": {
        "id": "Awh6l4icDflh"
      },
      "source": [
        "**Create and Compile your Model**"
      ]
    },
    {
      "cell_type": "code",
      "metadata": {
        "id": "WjrbX92BDhj8"
      },
      "source": [
        "model = Sequential()\n",
        "\n",
        "model.add(Embedding(num_words, embedding_size, weights = [embedding_matrix]))\n",
        "\n",
        "model.add(Dropout(0.2))\n",
        "\n",
        "### Bidirectional LSTM layer for hint \n",
        "model.add(Bidirectional(LSTM(128, return_sequences=True)))\n",
        "\n",
        "model.add(Dropout(0.2))\n",
        "\n",
        "model.add(Dense(1,activation='sigmoid'))"
      ],
      "execution_count": 29,
      "outputs": []
    },
    {
      "cell_type": "code",
      "metadata": {
        "colab": {
          "base_uri": "https://localhost:8080/"
        },
        "id": "Q6theuz4D8U8",
        "outputId": "6d078e07-c85c-444b-8c72-1b7c4a1857ee"
      },
      "source": [
        "model.output"
      ],
      "execution_count": 30,
      "outputs": [
        {
          "output_type": "execute_result",
          "data": {
            "text/plain": [
              "<KerasTensor: shape=(None, None, 1) dtype=float32 (created by layer 'dense')>"
            ]
          },
          "metadata": {
            "tags": []
          },
          "execution_count": 30
        }
      ]
    },
    {
      "cell_type": "code",
      "metadata": {
        "colab": {
          "base_uri": "https://localhost:8080/"
        },
        "id": "2YJSkEyHD-0K",
        "outputId": "044b5f87-9c95-4efe-fdcc-a7308f9c65ca"
      },
      "source": [
        "model.summary()"
      ],
      "execution_count": 31,
      "outputs": [
        {
          "output_type": "stream",
          "text": [
            "Model: \"sequential\"\n",
            "_________________________________________________________________\n",
            "Layer (type)                 Output Shape              Param #   \n",
            "=================================================================\n",
            "embedding (Embedding)        (None, None, 300)         8897100   \n",
            "_________________________________________________________________\n",
            "dropout (Dropout)            (None, None, 300)         0         \n",
            "_________________________________________________________________\n",
            "bidirectional (Bidirectional (None, None, 256)         439296    \n",
            "_________________________________________________________________\n",
            "dropout_1 (Dropout)          (None, None, 256)         0         \n",
            "_________________________________________________________________\n",
            "dense (Dense)                (None, None, 1)           257       \n",
            "=================================================================\n",
            "Total params: 9,336,653\n",
            "Trainable params: 9,336,653\n",
            "Non-trainable params: 0\n",
            "_________________________________________________________________\n"
          ],
          "name": "stdout"
        }
      ]
    },
    {
      "cell_type": "code",
      "metadata": {
        "id": "MTJDT_EdEE55"
      },
      "source": [
        "#Compile the model\n",
        "model.compile(optimizer='adam',loss='binary_crossentropy',metrics=['accuracy'])"
      ],
      "execution_count": 32,
      "outputs": []
    },
    {
      "cell_type": "markdown",
      "metadata": {
        "id": "4N42VQTVEIcQ"
      },
      "source": [
        "**Fit the model**"
      ]
    },
    {
      "cell_type": "code",
      "metadata": {
        "id": "CPpvRBZ5ELk1"
      },
      "source": [
        "batch_size = 100\n",
        "epochs = 5\n",
        "from sklearn.model_selection import train_test_split\n",
        "X_train, X_test, y_train, y_test = train_test_split(X,y,test_size=0.2,random_state=42)"
      ],
      "execution_count": 33,
      "outputs": []
    },
    {
      "cell_type": "code",
      "metadata": {
        "colab": {
          "base_uri": "https://localhost:8080/"
        },
        "id": "r4S_OnsYET7c",
        "outputId": "fb06d638-b558-4ec3-f16a-b9c47030c883"
      },
      "source": [
        "model.fit(X_train,y_train,epochs=epochs ,batch_size=batch_size,validation_data=(X_test, y_test),verbose = 1)"
      ],
      "execution_count": 34,
      "outputs": [
        {
          "output_type": "stream",
          "text": [
            "Epoch 1/5\n",
            "213/213 [==============================] - 39s 141ms/step - loss: 0.5904 - accuracy: 0.6999 - val_loss: 0.4907 - val_accuracy: 0.8038\n",
            "Epoch 2/5\n",
            "213/213 [==============================] - 29s 136ms/step - loss: 0.6079 - accuracy: 0.6602 - val_loss: 0.5223 - val_accuracy: 0.7759\n",
            "Epoch 3/5\n",
            "213/213 [==============================] - 29s 135ms/step - loss: 0.5889 - accuracy: 0.6703 - val_loss: 0.6802 - val_accuracy: 0.5577\n",
            "Epoch 4/5\n",
            "213/213 [==============================] - 29s 136ms/step - loss: 0.6708 - accuracy: 0.5745 - val_loss: 0.6724 - val_accuracy: 0.5583\n",
            "Epoch 5/5\n",
            "213/213 [==============================] - 29s 137ms/step - loss: 0.5562 - accuracy: 0.6938 - val_loss: 0.5815 - val_accuracy: 0.7080\n"
          ],
          "name": "stdout"
        },
        {
          "output_type": "execute_result",
          "data": {
            "text/plain": [
              "<tensorflow.python.keras.callbacks.History at 0x7f01400e6510>"
            ]
          },
          "metadata": {
            "tags": []
          },
          "execution_count": 34
        }
      ]
    }
  ]
}